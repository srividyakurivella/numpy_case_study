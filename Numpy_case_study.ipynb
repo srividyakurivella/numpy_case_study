{
 "cells": [
  {
   "cell_type": "code",
   "execution_count": 1,
   "id": "7c13bf69",
   "metadata": {},
   "outputs": [],
   "source": [
    "import numpy as np\n"
   ]
  },
  {
   "cell_type": "code",
   "execution_count": 2,
   "id": "0e8462ce",
   "metadata": {},
   "outputs": [],
   "source": [
    "#creating 1-d array \n",
    "k=np.array([1,2,3,4,5])"
   ]
  },
  {
   "cell_type": "code",
   "execution_count": 3,
   "id": "0db15caa",
   "metadata": {},
   "outputs": [
    {
     "name": "stdout",
     "output_type": "stream",
     "text": [
      "[1 2 3 4 5]\n"
     ]
    }
   ],
   "source": [
    "print(k)"
   ]
  },
  {
   "cell_type": "code",
   "execution_count": 4,
   "id": "dd76fae8",
   "metadata": {},
   "outputs": [
    {
     "name": "stdout",
     "output_type": "stream",
     "text": [
      "[[1 2 3]\n",
      " [3 4 5]]\n"
     ]
    }
   ],
   "source": [
    "#creating 2-d array \n",
    "k1=np.array([[1,2,3],[3,4,5]])\n",
    "print(k1)"
   ]
  },
  {
   "cell_type": "code",
   "execution_count": 5,
   "id": "abc22c7a",
   "metadata": {},
   "outputs": [
    {
     "name": "stdout",
     "output_type": "stream",
     "text": [
      "[0. 0. 0.]\n"
     ]
    }
   ],
   "source": [
    "#creating 1-d array pf zeros \n",
    "k2=np.zeros((3))\n",
    "print(k2)"
   ]
  },
  {
   "cell_type": "code",
   "execution_count": 6,
   "id": "272a9acc",
   "metadata": {},
   "outputs": [
    {
     "name": "stdout",
     "output_type": "stream",
     "text": [
      "[[0. 0. 0.]\n",
      " [0. 0. 0.]]\n"
     ]
    }
   ],
   "source": [
    "#creating 2-d array of zeros \n",
    "k3=np.zeros((2,3))\n",
    "print(k3)"
   ]
  },
  {
   "cell_type": "code",
   "execution_count": 7,
   "id": "980b7cd2",
   "metadata": {},
   "outputs": [
    {
     "name": "stdout",
     "output_type": "stream",
     "text": [
      "[1. 1. 1. 1. 1.]\n"
     ]
    }
   ],
   "source": [
    "#creating 1-d array of ones \n",
    "k4=np.ones(5)\n",
    "print(k4)"
   ]
  },
  {
   "cell_type": "code",
   "execution_count": 8,
   "id": "b3fcad15",
   "metadata": {},
   "outputs": [
    {
     "name": "stdout",
     "output_type": "stream",
     "text": [
      "[[0. 0. 0.]\n",
      " [0. 0. 0.]]\n"
     ]
    }
   ],
   "source": [
    "#creating 2-d array of ones\n",
    "k5=np.zeros((2,3))\n",
    "print(k5)"
   ]
  },
  {
   "cell_type": "code",
   "execution_count": 12,
   "id": "9a03ab56",
   "metadata": {},
   "outputs": [
    {
     "name": "stdout",
     "output_type": "stream",
     "text": [
      "addition of 2 arrays:\n",
      " [[7 7 7]\n",
      " [7 7 7]]\n",
      "subtraction of 2 arrays:\n",
      " [[-5 -3 -1]\n",
      " [ 1  3  5]]\n"
     ]
    }
   ],
   "source": [
    "#demonstrating arithmetic operations \n",
    "a=np.array([[1,2,3],[4,5,6]])\n",
    "b=np.array([[6,5,4],[3,2,1]])\n",
    "#addition\n",
    "print(\"addition of 2 arrays:\\n\",a+b)\n",
    "print(\"subtraction of 2 arrays:\\n\",a-b)"
   ]
  },
  {
   "cell_type": "code",
   "execution_count": 15,
   "id": "4655e6d6",
   "metadata": {},
   "outputs": [
    {
     "name": "stdout",
     "output_type": "stream",
     "text": [
      "dot operation on 1-d arrays: [[26 33]\n",
      " [62 78]]\n"
     ]
    }
   ],
   "source": [
    "a=np.array([[1,3],[4,6]])\n",
    "b=np.array([[5,6],[7,9]])\n",
    "c=np.dot(a,b)\n",
    "print(\"dot operation on 2-d arrays:\",c);"
   ]
  },
  {
   "cell_type": "code",
   "execution_count": 16,
   "id": "354fbc2e",
   "metadata": {},
   "outputs": [
    {
     "name": "stdout",
     "output_type": "stream",
     "text": [
      "general multiplication on 2-d arrays: [[ 5 18]\n",
      " [28 54]]\n"
     ]
    }
   ],
   "source": [
    "a=np.array([[1,3],[4,6]])\n",
    "b=np.array([[5,6],[7,9]])\n",
    "c=a*b\n",
    "print(\"general multiplication on 2-d arrays:\",c);"
   ]
  },
  {
   "cell_type": "code",
   "execution_count": null,
   "id": "fac8a3f4",
   "metadata": {},
   "outputs": [],
   "source": []
  }
 ],
 "metadata": {
  "kernelspec": {
   "display_name": "Python 3 (ipykernel)",
   "language": "python",
   "name": "python3"
  },
  "language_info": {
   "codemirror_mode": {
    "name": "ipython",
    "version": 3
   },
   "file_extension": ".py",
   "mimetype": "text/x-python",
   "name": "python",
   "nbconvert_exporter": "python",
   "pygments_lexer": "ipython3",
   "version": "3.9.13"
  }
 },
 "nbformat": 4,
 "nbformat_minor": 5
}
